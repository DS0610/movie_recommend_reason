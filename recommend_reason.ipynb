{
  "nbformat": 4,
  "nbformat_minor": 0,
  "metadata": {
    "colab": {
      "provenance": []
    },
    "kernelspec": {
      "name": "python3",
      "display_name": "Python 3"
    },
    "language_info": {
      "name": "python"
    }
  },
  "cells": [
    {
      "cell_type": "code",
      "execution_count": null,
      "metadata": {
        "id": "TqlfuUYU9B6C"
      },
      "outputs": [],
      "source": [
        "def recommend_and_reason_sentence(title, idx_map, df, sim_matrix):\n",
        "    try:\n",
        "        idx = idx_map[title]\n",
        "    except:\n",
        "        return '', ''\n",
        "\n",
        "    sim_scores = list(enumerate(sim_matrix[idx]))\n",
        "    sim_scores = sorted(sim_scores, key=lambda x: x[1], reverse=True)[1:4]\n",
        "\n",
        "    recommendations = []\n",
        "    reason_sentences = []\n",
        "\n",
        "    input_genres = set(df.loc[idx, 'genres'].replace(' ', '').split(','))\n",
        "    input_keywords = set(str(df.loc[idx, 'keywords']).lower().split(', '))\n",
        "\n",
        "    for i, _ in sim_scores:\n",
        "        row = df.iloc[i]\n",
        "        rec_title = row['movieNm']\n",
        "        rec_genres = set(row['genres'].replace(' ', '').split(','))\n",
        "        rec_keywords = set(str(row['keywords']).lower().split(', '))\n",
        "\n",
        "        # 교집합\n",
        "        genre_overlap = input_genres & rec_genres\n",
        "        keyword_overlap = input_keywords & rec_keywords\n",
        "\n",
        "        # 자연어 형태의 추천 이유 문장 만들기\n",
        "        reason_parts = []\n",
        "        if genre_overlap:\n",
        "            genre_text = '’, ‘'.join(genre_overlap)\n",
        "            reason_parts.append(f\"‘{genre_text}’ 장르를 공유하며\")\n",
        "        if keyword_overlap:\n",
        "            keyword_text = '’, ‘'.join(keyword_overlap)\n",
        "            reason_parts.append(f\"키워드 ‘{keyword_text}’가 유사합니다\")\n",
        "\n",
        "        if reason_parts:\n",
        "            reason_sentence = f\"{rec_title}는 이 영화와 \" + ', '.join(reason_parts) + '.'\n",
        "        else:\n",
        "            reason_sentence = f\"{rec_title}는 유사한 영화입니다.\"\n",
        "\n",
        "        recommendations.append(rec_title)\n",
        "        reason_sentences.append(reason_sentence)\n",
        "\n",
        "    return ', '.join(recommendations), ' '.join(reason_sentences)"
      ]
    },
    {
      "cell_type": "code",
      "source": [
        "title_to_idx = pd.Series(movies_df.index, index=movies_df['movieNm']).to_dict()"
      ],
      "metadata": {
        "id": "vxYNA0V29GqD"
      },
      "execution_count": null,
      "outputs": []
    },
    {
      "cell_type": "code",
      "source": [
        "recommendations = []\n",
        "reasons = []\n",
        "\n",
        "for title in movies_df['movieNm']:\n",
        "    recs, reason_text = recommend_and_reason_sentence(title, title_to_idx, movies_df, cosine_sim)\n",
        "    recommendations.append(recs)\n",
        "    reasons.append(reason_text)\n",
        "\n",
        "movies_df['recommend'] = recommendations\n",
        "movies_df['reason'] = reasons"
      ],
      "metadata": {
        "id": "Po7wfiFs9IXo"
      },
      "execution_count": null,
      "outputs": []
    },
    {
      "cell_type": "code",
      "source": [
        "movies_df.to_csv('movie_with_recommendation_and_reason.csv', index=False, encoding='utf-8-sig')"
      ],
      "metadata": {
        "id": "J-hNKUGy9I2Z"
      },
      "execution_count": null,
      "outputs": []
    },
    {
      "cell_type": "code",
      "source": [],
      "metadata": {
        "id": "HU5ysEwl9I4L"
      },
      "execution_count": null,
      "outputs": []
    }
  ]
}